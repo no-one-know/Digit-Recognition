{
 "cells": [
  {
   "cell_type": "code",
   "execution_count": 1,
   "metadata": {},
   "outputs": [],
   "source": [
    "import pandas as pd\n",
    "import matplotlib.pyplot as plt\n",
    "import matplotlib.image as mpimg\n",
    "import os\n",
    "from PIL import Image\n",
    "import numpy as np\n",
    "import warnings\n",
    "import tensorflow as tf\n",
    "warnings.filterwarnings('ignore')\n",
    "%matplotlib inline"
   ]
  },
  {
   "cell_type": "code",
   "execution_count": 13,
   "metadata": {},
   "outputs": [],
   "source": [
    "(X_train,Y_train),(X_test,Y_test)=tf.keras.datasets.mnist.load_data()"
   ]
  },
  {
   "cell_type": "code",
   "execution_count": 14,
   "metadata": {},
   "outputs": [
    {
     "data": {
      "text/plain": [
       "(60000, 28, 28)"
      ]
     },
     "execution_count": 14,
     "metadata": {},
     "output_type": "execute_result"
    }
   ],
   "source": [
    "X_train.shape"
   ]
  },
  {
   "cell_type": "code",
   "execution_count": 15,
   "metadata": {},
   "outputs": [
    {
     "data": {
      "text/plain": [
       "(60000, 28, 28, 1)"
      ]
     },
     "execution_count": 15,
     "metadata": {},
     "output_type": "execute_result"
    }
   ],
   "source": [
    "X_train=X_train.reshape((X_train.shape[0],X_train.shape[1],X_train.shape[2],1))\n",
    "X_train.shape"
   ]
  },
  {
   "cell_type": "code",
   "execution_count": 16,
   "metadata": {},
   "outputs": [
    {
     "data": {
      "text/plain": [
       "(60000,)"
      ]
     },
     "execution_count": 16,
     "metadata": {},
     "output_type": "execute_result"
    }
   ],
   "source": [
    "Y_train.shape"
   ]
  },
  {
   "cell_type": "code",
   "execution_count": 17,
   "metadata": {},
   "outputs": [
    {
     "data": {
      "text/plain": [
       "(60000, 1)"
      ]
     },
     "execution_count": 17,
     "metadata": {},
     "output_type": "execute_result"
    }
   ],
   "source": [
    "Y_train=Y_train.reshape(-1,1)\n",
    "Y_train.shape"
   ]
  },
  {
   "cell_type": "code",
   "execution_count": 18,
   "metadata": {},
   "outputs": [
    {
     "data": {
      "text/plain": [
       "(10000, 28, 28)"
      ]
     },
     "execution_count": 18,
     "metadata": {},
     "output_type": "execute_result"
    }
   ],
   "source": [
    "X_test.shape"
   ]
  },
  {
   "cell_type": "code",
   "execution_count": 19,
   "metadata": {},
   "outputs": [
    {
     "data": {
      "text/plain": [
       "(10000, 28, 28, 1)"
      ]
     },
     "execution_count": 19,
     "metadata": {},
     "output_type": "execute_result"
    }
   ],
   "source": [
    "X_test=X_test.reshape((X_test.shape[0],X_test.shape[1],X_test.shape[2],1))\n",
    "X_test.shape"
   ]
  },
  {
   "cell_type": "code",
   "execution_count": 20,
   "metadata": {},
   "outputs": [
    {
     "data": {
      "text/plain": [
       "(10000,)"
      ]
     },
     "execution_count": 20,
     "metadata": {},
     "output_type": "execute_result"
    }
   ],
   "source": [
    "Y_test.shape"
   ]
  },
  {
   "cell_type": "code",
   "execution_count": 21,
   "metadata": {},
   "outputs": [
    {
     "data": {
      "text/plain": [
       "(10000, 1)"
      ]
     },
     "execution_count": 21,
     "metadata": {},
     "output_type": "execute_result"
    }
   ],
   "source": [
    "Y_test=Y_test.reshape(-1,1)\n",
    "Y_test.shape"
   ]
  },
  {
   "cell_type": "code",
   "execution_count": 42,
   "metadata": {},
   "outputs": [],
   "source": [
    "X_train=X_train/255.0\n",
    "X_test=X_test/255.0"
   ]
  },
  {
   "cell_type": "code",
   "execution_count": 43,
   "metadata": {},
   "outputs": [
    {
     "name": "stdout",
     "output_type": "stream",
     "text": [
      "Epoch 1/15\n",
      "1875/1875 [==============================] - 83s 44ms/step - loss: 0.2723 - accuracy: 0.9183\n",
      "Epoch 2/15\n",
      "1875/1875 [==============================] - 83s 44ms/step - loss: 0.1608 - accuracy: 0.9517\n",
      "Epoch 3/15\n",
      "1875/1875 [==============================] - 78s 41ms/step - loss: 0.1410 - accuracy: 0.9573\n",
      "Epoch 4/15\n",
      "1875/1875 [==============================] - 78s 42ms/step - loss: 0.1266 - accuracy: 0.9620\n",
      "Epoch 5/15\n",
      "1875/1875 [==============================] - 83s 45ms/step - loss: 0.1236 - accuracy: 0.9617\n",
      "Epoch 6/15\n",
      "1875/1875 [==============================] - 85s 45ms/step - loss: 0.1136 - accuracy: 0.9658\n",
      "Epoch 7/15\n",
      "1875/1875 [==============================] - 83s 44ms/step - loss: 0.1099 - accuracy: 0.9670\n",
      "Epoch 8/15\n",
      "1875/1875 [==============================] - 83s 44ms/step - loss: 0.1049 - accuracy: 0.9677\n",
      "Epoch 9/15\n",
      "1875/1875 [==============================] - 82s 44ms/step - loss: 0.1033 - accuracy: 0.9689\n",
      "Epoch 10/15\n",
      "1875/1875 [==============================] - 83s 44ms/step - loss: 0.0964 - accuracy: 0.9717\n",
      "Epoch 11/15\n",
      "1875/1875 [==============================] - 83s 44ms/step - loss: 0.0930 - accuracy: 0.9717\n",
      "Epoch 12/15\n",
      "1875/1875 [==============================] - 83s 44ms/step - loss: 0.0918 - accuracy: 0.9729\n",
      "Epoch 13/15\n",
      "1875/1875 [==============================] - 82s 44ms/step - loss: 0.0922 - accuracy: 0.9733\n",
      "Epoch 14/15\n",
      "1875/1875 [==============================] - 87s 46ms/step - loss: 0.0873 - accuracy: 0.9741\n",
      "Epoch 15/15\n",
      "1875/1875 [==============================] - 89s 47ms/step - loss: 0.0839 - accuracy: 0.9754\n"
     ]
    },
    {
     "data": {
      "text/plain": [
       "<keras.callbacks.History at 0x211b4f09870>"
      ]
     },
     "execution_count": 43,
     "metadata": {},
     "output_type": "execute_result"
    }
   ],
   "source": [
    "model_1=tf.keras.Sequential([\n",
    "    tf.keras.layers.Conv2D(filters=40,strides=(1,1),kernel_size=(4,4),activation='relu',input_shape=(28,28,1),padding='same'),\n",
    "    tf.keras.layers.MaxPool2D(pool_size=(3,3),strides=(1,1)),\n",
    "    tf.keras.layers.Flatten(),\n",
    "    tf.keras.layers.Dense(units=50,activation='relu'),\n",
    "    tf.keras.layers.Dense(units=10,activation='softmax')\n",
    "])\n",
    "\n",
    "model_1.compile(\n",
    "    loss=tf.keras.losses.sparse_categorical_crossentropy,\n",
    "    optimizer=tf.keras.optimizers.Adam(learning_rate=0.01),\n",
    "    metrics=['accuracy']\n",
    ")\n",
    "\n",
    "model_1.fit(X_train,Y_train,epochs=15)"
   ]
  },
  {
   "cell_type": "code",
   "execution_count": 73,
   "metadata": {},
   "outputs": [
    {
     "name": "stdout",
     "output_type": "stream",
     "text": [
      "313/313 [==============================] - 3s 8ms/step\n"
     ]
    }
   ],
   "source": [
    "prediction=model_1.predict(X_test)"
   ]
  },
  {
   "cell_type": "code",
   "execution_count": 76,
   "metadata": {},
   "outputs": [],
   "source": [
    "result=[]\n",
    "for i in range(prediction.shape[0]):\n",
    "    result.append(np.argmax(prediction[i,:]))\n",
    "result=np.array(result)\n",
    "result=result.reshape(-1,1)"
   ]
  },
  {
   "cell_type": "code",
   "execution_count": 77,
   "metadata": {},
   "outputs": [
    {
     "data": {
      "text/plain": [
       "array([[7],\n",
       "       [2],\n",
       "       [1],\n",
       "       [0],\n",
       "       [4],\n",
       "       [1],\n",
       "       [4],\n",
       "       [9],\n",
       "       [5],\n",
       "       [9]], dtype=int64)"
      ]
     },
     "execution_count": 77,
     "metadata": {},
     "output_type": "execute_result"
    }
   ],
   "source": [
    "result[0:10,:]"
   ]
  },
  {
   "cell_type": "code",
   "execution_count": 78,
   "metadata": {},
   "outputs": [
    {
     "name": "stdout",
     "output_type": "stream",
     "text": [
      "[[ 963    1    1    2    0    3    5    0    2    3]\n",
      " [   0 1113    6    6    0    1    2    0    7    0]\n",
      " [   3    0  997   14    0    0    0    8    9    1]\n",
      " [   0    0    2  990    0    8    0    6    3    1]\n",
      " [   1    5    4    1  930    1    6    6    4   24]\n",
      " [   2    2    0   23    1  854    2    1    3    4]\n",
      " [   6    2    1    1    1    3  940    0    3    1]\n",
      " [   1    3   13   13    2    1    0  978    3   14]\n",
      " [   9    0    1   13    4    6    4    4  920   13]\n",
      " [   3    5    0   10    6    9    0   16    2  958]]\n",
      "              precision    recall  f1-score   support\n",
      "\n",
      "           0       0.97      0.98      0.98       980\n",
      "           1       0.98      0.98      0.98      1135\n",
      "           2       0.97      0.97      0.97      1032\n",
      "           3       0.92      0.98      0.95      1010\n",
      "           4       0.99      0.95      0.97       982\n",
      "           5       0.96      0.96      0.96       892\n",
      "           6       0.98      0.98      0.98       958\n",
      "           7       0.96      0.95      0.96      1028\n",
      "           8       0.96      0.94      0.95       974\n",
      "           9       0.94      0.95      0.94      1009\n",
      "\n",
      "    accuracy                           0.96     10000\n",
      "   macro avg       0.96      0.96      0.96     10000\n",
      "weighted avg       0.96      0.96      0.96     10000\n",
      "\n"
     ]
    }
   ],
   "source": [
    "from sklearn.metrics import classification_report,confusion_matrix\n",
    "print(confusion_matrix(Y_test,result))\n",
    "print(classification_report(Y_test,result))"
   ]
  },
  {
   "cell_type": "code",
   "execution_count": null,
   "metadata": {},
   "outputs": [],
   "source": []
  }
 ],
 "metadata": {
  "kernelspec": {
   "display_name": "Python 3",
   "language": "python",
   "name": "python3"
  },
  "language_info": {
   "codemirror_mode": {
    "name": "ipython",
    "version": 3
   },
   "file_extension": ".py",
   "mimetype": "text/x-python",
   "name": "python",
   "nbconvert_exporter": "python",
   "pygments_lexer": "ipython3",
   "version": "3.10.7"
  },
  "orig_nbformat": 4
 },
 "nbformat": 4,
 "nbformat_minor": 2
}
